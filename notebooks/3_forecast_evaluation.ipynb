{
    "cells": [
        {
            "cell_type": "code",
            "execution_count": 1,
            "id": "b69b57ec",
            "metadata": {},
            "outputs": [
                {
                    "data": {
                        "text/plain": [
                            "True"
                        ]
                    },
                    "execution_count": 1,
                    "metadata": {},
                    "output_type": "execute_result"
                }
            ],
            "source": [
                "from dotenv import load_dotenv\n",
                "\n",
                "load_dotenv()"
            ]
        },
        {
            "cell_type": "markdown",
            "id": "544ee469",
            "metadata": {},
            "source": [
                "# Forecasting Evaluation\n",
                "\n",
                "- https://autogluon.github.io/fev/latest/tutorials/02-dataset-format/\n",
                "\n",
                "Datasets are stored using Hugging Face `dataset` library in \"fev format\"."
            ]
        },
        {
            "cell_type": "code",
            "execution_count": 2,
            "id": "d693c520",
            "metadata": {},
            "outputs": [
                {
                    "name": "stderr",
                    "output_type": "stream",
                    "text": [
                        "/Users/khozzy/Projects/apytmiz/aptimyz-demand-forecast/.venv/lib/python3.12/site-packages/tqdm/auto.py:21: TqdmWarning: IProgress not found. Please update jupyter and ipywidgets. See https://ipywidgets.readthedocs.io/en/stable/user_install.html\n",
                        "  from .autonotebook import tqdm as notebook_tqdm\n"
                    ]
                }
            ],
            "source": [
                "import warnings\n",
                "import fev\n",
                "import datasets\n",
                "import numpy as np\n",
                "import pandas as pd\n",
                "\n",
                "warnings.simplefilter(\"ignore\")\n",
                "datasets.disable_progress_bars()\n",
                "\n",
                "dataset_path = \"/tmp/automl_ds.parquet\""
            ]
        },
        {
            "cell_type": "markdown",
            "id": "bf1dd00b",
            "metadata": {},
            "source": [
                "## Dataset preparation"
            ]
        },
        {
            "cell_type": "code",
            "execution_count": 3,
            "id": "5f79e8f4",
            "metadata": {},
            "outputs": [
                {
                    "data": {
                        "application/vnd.microsoft.datawrangler.viewer.v0+json": {
                            "columns": [
                                {
                                    "name": "index",
                                    "rawType": "int64",
                                    "type": "integer"
                                },
                                {
                                    "name": "date",
                                    "rawType": "object",
                                    "type": "string"
                                },
                                {
                                    "name": "sales",
                                    "rawType": "int64",
                                    "type": "integer"
                                },
                                {
                                    "name": "series_id",
                                    "rawType": "object",
                                    "type": "string"
                                }
                            ],
                            "ref": "24f470b6-9cf6-4f5b-82e3-c5fad750930e",
                            "rows": [
                                [
                                    "0",
                                    "2013-01-01",
                                    "13",
                                    "1_1"
                                ],
                                [
                                    "1",
                                    "2013-01-02",
                                    "11",
                                    "1_1"
                                ],
                                [
                                    "2",
                                    "2013-01-03",
                                    "14",
                                    "1_1"
                                ],
                                [
                                    "3",
                                    "2013-01-04",
                                    "13",
                                    "1_1"
                                ],
                                [
                                    "4",
                                    "2013-01-05",
                                    "10",
                                    "1_1"
                                ]
                            ],
                            "shape": {
                                "columns": 3,
                                "rows": 5
                            }
                        },
                        "text/html": [
                            "<div>\n",
                            "<style scoped>\n",
                            "    .dataframe tbody tr th:only-of-type {\n",
                            "        vertical-align: middle;\n",
                            "    }\n",
                            "\n",
                            "    .dataframe tbody tr th {\n",
                            "        vertical-align: top;\n",
                            "    }\n",
                            "\n",
                            "    .dataframe thead th {\n",
                            "        text-align: right;\n",
                            "    }\n",
                            "</style>\n",
                            "<table border=\"1\" class=\"dataframe\">\n",
                            "  <thead>\n",
                            "    <tr style=\"text-align: right;\">\n",
                            "      <th></th>\n",
                            "      <th>date</th>\n",
                            "      <th>sales</th>\n",
                            "      <th>series_id</th>\n",
                            "    </tr>\n",
                            "  </thead>\n",
                            "  <tbody>\n",
                            "    <tr>\n",
                            "      <th>0</th>\n",
                            "      <td>2013-01-01</td>\n",
                            "      <td>13</td>\n",
                            "      <td>1_1</td>\n",
                            "    </tr>\n",
                            "    <tr>\n",
                            "      <th>1</th>\n",
                            "      <td>2013-01-02</td>\n",
                            "      <td>11</td>\n",
                            "      <td>1_1</td>\n",
                            "    </tr>\n",
                            "    <tr>\n",
                            "      <th>2</th>\n",
                            "      <td>2013-01-03</td>\n",
                            "      <td>14</td>\n",
                            "      <td>1_1</td>\n",
                            "    </tr>\n",
                            "    <tr>\n",
                            "      <th>3</th>\n",
                            "      <td>2013-01-04</td>\n",
                            "      <td>13</td>\n",
                            "      <td>1_1</td>\n",
                            "    </tr>\n",
                            "    <tr>\n",
                            "      <th>4</th>\n",
                            "      <td>2013-01-05</td>\n",
                            "      <td>10</td>\n",
                            "      <td>1_1</td>\n",
                            "    </tr>\n",
                            "  </tbody>\n",
                            "</table>\n",
                            "</div>"
                        ],
                        "text/plain": [
                            "         date  sales series_id\n",
                            "0  2013-01-01     13       1_1\n",
                            "1  2013-01-02     11       1_1\n",
                            "2  2013-01-03     14       1_1\n",
                            "3  2013-01-04     13       1_1\n",
                            "4  2013-01-05     10       1_1"
                        ]
                    },
                    "execution_count": 3,
                    "metadata": {},
                    "output_type": "execute_result"
                }
            ],
            "source": [
                "df = pd.read_csv(\"../data/raw/train.csv\")\n",
                "df[\"series_id\"] = df[\"store\"].astype(str) + \"_\" + df[\"item\"].astype(str)\n",
                "df.drop(columns=[\"item\", \"store\"], inplace=True)\n",
                "df.head()"
            ]
        },
        {
            "cell_type": "code",
            "execution_count": 4,
            "id": "0de984eb",
            "metadata": {},
            "outputs": [
                {
                    "data": {
                        "text/plain": [
                            "Dataset({\n",
                            "    features: ['series_id', 'date', 'sales'],\n",
                            "    num_rows: 500\n",
                            "})"
                        ]
                    },
                    "execution_count": 4,
                    "metadata": {},
                    "output_type": "execute_result"
                }
            ],
            "source": [
                "ds = fev.utils.convert_long_df_to_hf_dataset(\n",
                "    df, id_column=\"series_id\", timestamp_column=\"date\"\n",
                ")\n",
                "ds"
            ]
        },
        {
            "cell_type": "code",
            "execution_count": 5,
            "id": "ec874df2",
            "metadata": {},
            "outputs": [],
            "source": [
                "# verify if the dataset was converted correctly\n",
                "\n",
                "# fev.utils.validate_time_series_dataset(\n",
                "#     ds, id_column=\"series_id\", timestamp_column=\"date\"\n",
                "# )"
            ]
        },
        {
            "cell_type": "code",
            "execution_count": 6,
            "id": "b3a80a4c",
            "metadata": {},
            "outputs": [
                {
                    "data": {
                        "text/plain": [
                            "14615960"
                        ]
                    },
                    "execution_count": 6,
                    "metadata": {},
                    "output_type": "execute_result"
                }
            ],
            "source": [
                "# save dataset to file\n",
                "ds.to_parquet(dataset_path)"
            ]
        },
        {
            "cell_type": "markdown",
            "id": "940abcce",
            "metadata": {},
            "source": [
                "## Fetch eval data from batch tranform (S3)"
            ]
        },
        {
            "cell_type": "code",
            "execution_count": 7,
            "id": "5da8970a",
            "metadata": {},
            "outputs": [
                {
                    "ename": "FileNotFoundError",
                    "evalue": "sagemaker-forecasting-aptimyz-output/transform/train.csv.out",
                    "output_type": "error",
                    "traceback": [
                        "\u001b[31m---------------------------------------------------------------------------\u001b[39m",
                        "\u001b[31mClientError\u001b[39m                               Traceback (most recent call last)",
                        "\u001b[36mFile \u001b[39m\u001b[32m~/Projects/apytmiz/aptimyz-demand-forecast/.venv/lib/python3.12/site-packages/s3fs/core.py:529\u001b[39m, in \u001b[36mS3FileSystem.info\u001b[39m\u001b[34m(self, path, version_id, refresh)\u001b[39m\n\u001b[32m    528\u001b[39m \u001b[38;5;28;01mtry\u001b[39;00m:\n\u001b[32m--> \u001b[39m\u001b[32m529\u001b[39m     out = \u001b[38;5;28;43mself\u001b[39;49m\u001b[43m.\u001b[49m\u001b[43m_call_s3\u001b[49m\u001b[43m(\u001b[49m\u001b[38;5;28;43mself\u001b[39;49m\u001b[43m.\u001b[49m\u001b[43ms3\u001b[49m\u001b[43m.\u001b[49m\u001b[43mhead_object\u001b[49m\u001b[43m,\u001b[49m\u001b[43m \u001b[49m\u001b[43mkwargs\u001b[49m\u001b[43m,\u001b[49m\u001b[43m \u001b[49m\u001b[43mBucket\u001b[49m\u001b[43m=\u001b[49m\u001b[43mbucket\u001b[49m\u001b[43m,\u001b[49m\n\u001b[32m    530\u001b[39m \u001b[43m                        \u001b[49m\u001b[43mKey\u001b[49m\u001b[43m=\u001b[49m\u001b[43mkey\u001b[49m\u001b[43m,\u001b[49m\u001b[43m \u001b[49m\u001b[43m*\u001b[49m\u001b[43m*\u001b[49m\u001b[43mversion_id_kw\u001b[49m\u001b[43m(\u001b[49m\u001b[43mversion_id\u001b[49m\u001b[43m)\u001b[49m\u001b[43m,\u001b[49m\u001b[43m \u001b[49m\u001b[43m*\u001b[49m\u001b[43m*\u001b[49m\u001b[38;5;28;43mself\u001b[39;49m\u001b[43m.\u001b[49m\u001b[43mreq_kw\u001b[49m\u001b[43m)\u001b[49m\n\u001b[32m    531\u001b[39m     \u001b[38;5;28;01mreturn\u001b[39;00m {\n\u001b[32m    532\u001b[39m         \u001b[33m'\u001b[39m\u001b[33mETag\u001b[39m\u001b[33m'\u001b[39m: out[\u001b[33m'\u001b[39m\u001b[33mETag\u001b[39m\u001b[33m'\u001b[39m],\n\u001b[32m    533\u001b[39m         \u001b[33m'\u001b[39m\u001b[33mKey\u001b[39m\u001b[33m'\u001b[39m: \u001b[33m'\u001b[39m\u001b[33m/\u001b[39m\u001b[33m'\u001b[39m.join([bucket, key]),\n\u001b[32m   (...)\u001b[39m\u001b[32m    540\u001b[39m         \u001b[33m'\u001b[39m\u001b[33mVersionId\u001b[39m\u001b[33m'\u001b[39m: out.get(\u001b[33m'\u001b[39m\u001b[33mVersionId\u001b[39m\u001b[33m'\u001b[39m)\n\u001b[32m    541\u001b[39m     }\n",
                        "\u001b[36mFile \u001b[39m\u001b[32m~/Projects/apytmiz/aptimyz-demand-forecast/.venv/lib/python3.12/site-packages/s3fs/core.py:200\u001b[39m, in \u001b[36mS3FileSystem._call_s3\u001b[39m\u001b[34m(self, method, *akwarglist, **kwargs)\u001b[39m\n\u001b[32m    198\u001b[39m additional_kwargs = \u001b[38;5;28mself\u001b[39m._get_s3_method_kwargs(method, *akwarglist,\n\u001b[32m    199\u001b[39m                                                **kwargs)\n\u001b[32m--> \u001b[39m\u001b[32m200\u001b[39m \u001b[38;5;28;01mreturn\u001b[39;00m \u001b[43mmethod\u001b[49m\u001b[43m(\u001b[49m\u001b[43m*\u001b[49m\u001b[43m*\u001b[49m\u001b[43madditional_kwargs\u001b[49m\u001b[43m)\u001b[49m\n",
                        "\u001b[36mFile \u001b[39m\u001b[32m~/Projects/apytmiz/aptimyz-demand-forecast/.venv/lib/python3.12/site-packages/botocore/client.py:602\u001b[39m, in \u001b[36mClientCreator._create_api_method.<locals>._api_call\u001b[39m\u001b[34m(self, *args, **kwargs)\u001b[39m\n\u001b[32m    601\u001b[39m \u001b[38;5;66;03m# The \"self\" in this scope is referring to the BaseClient.\u001b[39;00m\n\u001b[32m--> \u001b[39m\u001b[32m602\u001b[39m \u001b[38;5;28;01mreturn\u001b[39;00m \u001b[38;5;28;43mself\u001b[39;49m\u001b[43m.\u001b[49m\u001b[43m_make_api_call\u001b[49m\u001b[43m(\u001b[49m\u001b[43moperation_name\u001b[49m\u001b[43m,\u001b[49m\u001b[43m \u001b[49m\u001b[43mkwargs\u001b[49m\u001b[43m)\u001b[49m\n",
                        "\u001b[36mFile \u001b[39m\u001b[32m~/Projects/apytmiz/aptimyz-demand-forecast/.venv/lib/python3.12/site-packages/botocore/context.py:123\u001b[39m, in \u001b[36mwith_current_context.<locals>.decorator.<locals>.wrapper\u001b[39m\u001b[34m(*args, **kwargs)\u001b[39m\n\u001b[32m    122\u001b[39m     hook()\n\u001b[32m--> \u001b[39m\u001b[32m123\u001b[39m \u001b[38;5;28;01mreturn\u001b[39;00m \u001b[43mfunc\u001b[49m\u001b[43m(\u001b[49m\u001b[43m*\u001b[49m\u001b[43margs\u001b[49m\u001b[43m,\u001b[49m\u001b[43m \u001b[49m\u001b[43m*\u001b[49m\u001b[43m*\u001b[49m\u001b[43mkwargs\u001b[49m\u001b[43m)\u001b[49m\n",
                        "\u001b[36mFile \u001b[39m\u001b[32m~/Projects/apytmiz/aptimyz-demand-forecast/.venv/lib/python3.12/site-packages/botocore/client.py:1078\u001b[39m, in \u001b[36mBaseClient._make_api_call\u001b[39m\u001b[34m(self, operation_name, api_params)\u001b[39m\n\u001b[32m   1077\u001b[39m     error_class = \u001b[38;5;28mself\u001b[39m.exceptions.from_code(error_code)\n\u001b[32m-> \u001b[39m\u001b[32m1078\u001b[39m     \u001b[38;5;28;01mraise\u001b[39;00m error_class(parsed_response, operation_name)\n\u001b[32m   1079\u001b[39m \u001b[38;5;28;01melse\u001b[39;00m:\n",
                        "\u001b[31mClientError\u001b[39m: An error occurred (404) when calling the HeadObject operation: Not Found",
                        "\nDuring handling of the above exception, another exception occurred:\n",
                        "\u001b[31mFileNotFoundError\u001b[39m                         Traceback (most recent call last)",
                        "\u001b[36mCell\u001b[39m\u001b[36m \u001b[39m\u001b[32mIn[7]\u001b[39m\u001b[32m, line 1\u001b[39m\n\u001b[32m----> \u001b[39m\u001b[32m1\u001b[39m eval_df = \u001b[43mpd\u001b[49m\u001b[43m.\u001b[49m\u001b[43mread_csv\u001b[49m\u001b[43m(\u001b[49m\n\u001b[32m      2\u001b[39m \u001b[43m    \u001b[49m\u001b[33;43m\"\u001b[39;49m\u001b[33;43ms3://sagemaker-forecasting-aptimyz-output/transform/train.csv.out\u001b[39;49m\u001b[33;43m\"\u001b[39;49m\u001b[43m,\u001b[49m\u001b[43m \u001b[49m\u001b[43mheader\u001b[49m\u001b[43m=\u001b[49m\u001b[33;43m\"\u001b[39;49m\u001b[33;43minfer\u001b[39;49m\u001b[33;43m\"\u001b[39;49m\n\u001b[32m      3\u001b[39m \u001b[43m)\u001b[49m\n\u001b[32m      5\u001b[39m \u001b[38;5;66;03m# SageMaker Batch Transform creates a single output file by merging multiple CSV\u001b[39;00m\n\u001b[32m      6\u001b[39m \u001b[38;5;66;03m# Some cleanup is needed for deduplication\u001b[39;00m\n\u001b[32m      7\u001b[39m eval_df = eval_df[eval_df[\u001b[33m\"\u001b[39m\u001b[33mdate\u001b[39m\u001b[33m\"\u001b[39m] != \u001b[33m\"\u001b[39m\u001b[33mdate\u001b[39m\u001b[33m\"\u001b[39m]\n",
                        "\u001b[36mFile \u001b[39m\u001b[32m~/Projects/apytmiz/aptimyz-demand-forecast/.venv/lib/python3.12/site-packages/pandas/io/parsers/readers.py:1026\u001b[39m, in \u001b[36mread_csv\u001b[39m\u001b[34m(filepath_or_buffer, sep, delimiter, header, names, index_col, usecols, dtype, engine, converters, true_values, false_values, skipinitialspace, skiprows, skipfooter, nrows, na_values, keep_default_na, na_filter, verbose, skip_blank_lines, parse_dates, infer_datetime_format, keep_date_col, date_parser, date_format, dayfirst, cache_dates, iterator, chunksize, compression, thousands, decimal, lineterminator, quotechar, quoting, doublequote, escapechar, comment, encoding, encoding_errors, dialect, on_bad_lines, delim_whitespace, low_memory, memory_map, float_precision, storage_options, dtype_backend)\u001b[39m\n\u001b[32m   1013\u001b[39m kwds_defaults = _refine_defaults_read(\n\u001b[32m   1014\u001b[39m     dialect,\n\u001b[32m   1015\u001b[39m     delimiter,\n\u001b[32m   (...)\u001b[39m\u001b[32m   1022\u001b[39m     dtype_backend=dtype_backend,\n\u001b[32m   1023\u001b[39m )\n\u001b[32m   1024\u001b[39m kwds.update(kwds_defaults)\n\u001b[32m-> \u001b[39m\u001b[32m1026\u001b[39m \u001b[38;5;28;01mreturn\u001b[39;00m \u001b[43m_read\u001b[49m\u001b[43m(\u001b[49m\u001b[43mfilepath_or_buffer\u001b[49m\u001b[43m,\u001b[49m\u001b[43m \u001b[49m\u001b[43mkwds\u001b[49m\u001b[43m)\u001b[49m\n",
                        "\u001b[36mFile \u001b[39m\u001b[32m~/Projects/apytmiz/aptimyz-demand-forecast/.venv/lib/python3.12/site-packages/pandas/io/parsers/readers.py:620\u001b[39m, in \u001b[36m_read\u001b[39m\u001b[34m(filepath_or_buffer, kwds)\u001b[39m\n\u001b[32m    617\u001b[39m _validate_names(kwds.get(\u001b[33m\"\u001b[39m\u001b[33mnames\u001b[39m\u001b[33m\"\u001b[39m, \u001b[38;5;28;01mNone\u001b[39;00m))\n\u001b[32m    619\u001b[39m \u001b[38;5;66;03m# Create the parser.\u001b[39;00m\n\u001b[32m--> \u001b[39m\u001b[32m620\u001b[39m parser = \u001b[43mTextFileReader\u001b[49m\u001b[43m(\u001b[49m\u001b[43mfilepath_or_buffer\u001b[49m\u001b[43m,\u001b[49m\u001b[43m \u001b[49m\u001b[43m*\u001b[49m\u001b[43m*\u001b[49m\u001b[43mkwds\u001b[49m\u001b[43m)\u001b[49m\n\u001b[32m    622\u001b[39m \u001b[38;5;28;01mif\u001b[39;00m chunksize \u001b[38;5;129;01mor\u001b[39;00m iterator:\n\u001b[32m    623\u001b[39m     \u001b[38;5;28;01mreturn\u001b[39;00m parser\n",
                        "\u001b[36mFile \u001b[39m\u001b[32m~/Projects/apytmiz/aptimyz-demand-forecast/.venv/lib/python3.12/site-packages/pandas/io/parsers/readers.py:1620\u001b[39m, in \u001b[36mTextFileReader.__init__\u001b[39m\u001b[34m(self, f, engine, **kwds)\u001b[39m\n\u001b[32m   1617\u001b[39m     \u001b[38;5;28mself\u001b[39m.options[\u001b[33m\"\u001b[39m\u001b[33mhas_index_names\u001b[39m\u001b[33m\"\u001b[39m] = kwds[\u001b[33m\"\u001b[39m\u001b[33mhas_index_names\u001b[39m\u001b[33m\"\u001b[39m]\n\u001b[32m   1619\u001b[39m \u001b[38;5;28mself\u001b[39m.handles: IOHandles | \u001b[38;5;28;01mNone\u001b[39;00m = \u001b[38;5;28;01mNone\u001b[39;00m\n\u001b[32m-> \u001b[39m\u001b[32m1620\u001b[39m \u001b[38;5;28mself\u001b[39m._engine = \u001b[38;5;28;43mself\u001b[39;49m\u001b[43m.\u001b[49m\u001b[43m_make_engine\u001b[49m\u001b[43m(\u001b[49m\u001b[43mf\u001b[49m\u001b[43m,\u001b[49m\u001b[43m \u001b[49m\u001b[38;5;28;43mself\u001b[39;49m\u001b[43m.\u001b[49m\u001b[43mengine\u001b[49m\u001b[43m)\u001b[49m\n",
                        "\u001b[36mFile \u001b[39m\u001b[32m~/Projects/apytmiz/aptimyz-demand-forecast/.venv/lib/python3.12/site-packages/pandas/io/parsers/readers.py:1880\u001b[39m, in \u001b[36mTextFileReader._make_engine\u001b[39m\u001b[34m(self, f, engine)\u001b[39m\n\u001b[32m   1878\u001b[39m     \u001b[38;5;28;01mif\u001b[39;00m \u001b[33m\"\u001b[39m\u001b[33mb\u001b[39m\u001b[33m\"\u001b[39m \u001b[38;5;129;01mnot\u001b[39;00m \u001b[38;5;129;01min\u001b[39;00m mode:\n\u001b[32m   1879\u001b[39m         mode += \u001b[33m\"\u001b[39m\u001b[33mb\u001b[39m\u001b[33m\"\u001b[39m\n\u001b[32m-> \u001b[39m\u001b[32m1880\u001b[39m \u001b[38;5;28mself\u001b[39m.handles = \u001b[43mget_handle\u001b[49m\u001b[43m(\u001b[49m\n\u001b[32m   1881\u001b[39m \u001b[43m    \u001b[49m\u001b[43mf\u001b[49m\u001b[43m,\u001b[49m\n\u001b[32m   1882\u001b[39m \u001b[43m    \u001b[49m\u001b[43mmode\u001b[49m\u001b[43m,\u001b[49m\n\u001b[32m   1883\u001b[39m \u001b[43m    \u001b[49m\u001b[43mencoding\u001b[49m\u001b[43m=\u001b[49m\u001b[38;5;28;43mself\u001b[39;49m\u001b[43m.\u001b[49m\u001b[43moptions\u001b[49m\u001b[43m.\u001b[49m\u001b[43mget\u001b[49m\u001b[43m(\u001b[49m\u001b[33;43m\"\u001b[39;49m\u001b[33;43mencoding\u001b[39;49m\u001b[33;43m\"\u001b[39;49m\u001b[43m,\u001b[49m\u001b[43m \u001b[49m\u001b[38;5;28;43;01mNone\u001b[39;49;00m\u001b[43m)\u001b[49m\u001b[43m,\u001b[49m\n\u001b[32m   1884\u001b[39m \u001b[43m    \u001b[49m\u001b[43mcompression\u001b[49m\u001b[43m=\u001b[49m\u001b[38;5;28;43mself\u001b[39;49m\u001b[43m.\u001b[49m\u001b[43moptions\u001b[49m\u001b[43m.\u001b[49m\u001b[43mget\u001b[49m\u001b[43m(\u001b[49m\u001b[33;43m\"\u001b[39;49m\u001b[33;43mcompression\u001b[39;49m\u001b[33;43m\"\u001b[39;49m\u001b[43m,\u001b[49m\u001b[43m \u001b[49m\u001b[38;5;28;43;01mNone\u001b[39;49;00m\u001b[43m)\u001b[49m\u001b[43m,\u001b[49m\n\u001b[32m   1885\u001b[39m \u001b[43m    \u001b[49m\u001b[43mmemory_map\u001b[49m\u001b[43m=\u001b[49m\u001b[38;5;28;43mself\u001b[39;49m\u001b[43m.\u001b[49m\u001b[43moptions\u001b[49m\u001b[43m.\u001b[49m\u001b[43mget\u001b[49m\u001b[43m(\u001b[49m\u001b[33;43m\"\u001b[39;49m\u001b[33;43mmemory_map\u001b[39;49m\u001b[33;43m\"\u001b[39;49m\u001b[43m,\u001b[49m\u001b[43m \u001b[49m\u001b[38;5;28;43;01mFalse\u001b[39;49;00m\u001b[43m)\u001b[49m\u001b[43m,\u001b[49m\n\u001b[32m   1886\u001b[39m \u001b[43m    \u001b[49m\u001b[43mis_text\u001b[49m\u001b[43m=\u001b[49m\u001b[43mis_text\u001b[49m\u001b[43m,\u001b[49m\n\u001b[32m   1887\u001b[39m \u001b[43m    \u001b[49m\u001b[43merrors\u001b[49m\u001b[43m=\u001b[49m\u001b[38;5;28;43mself\u001b[39;49m\u001b[43m.\u001b[49m\u001b[43moptions\u001b[49m\u001b[43m.\u001b[49m\u001b[43mget\u001b[49m\u001b[43m(\u001b[49m\u001b[33;43m\"\u001b[39;49m\u001b[33;43mencoding_errors\u001b[39;49m\u001b[33;43m\"\u001b[39;49m\u001b[43m,\u001b[49m\u001b[43m \u001b[49m\u001b[33;43m\"\u001b[39;49m\u001b[33;43mstrict\u001b[39;49m\u001b[33;43m\"\u001b[39;49m\u001b[43m)\u001b[49m\u001b[43m,\u001b[49m\n\u001b[32m   1888\u001b[39m \u001b[43m    \u001b[49m\u001b[43mstorage_options\u001b[49m\u001b[43m=\u001b[49m\u001b[38;5;28;43mself\u001b[39;49m\u001b[43m.\u001b[49m\u001b[43moptions\u001b[49m\u001b[43m.\u001b[49m\u001b[43mget\u001b[49m\u001b[43m(\u001b[49m\u001b[33;43m\"\u001b[39;49m\u001b[33;43mstorage_options\u001b[39;49m\u001b[33;43m\"\u001b[39;49m\u001b[43m,\u001b[49m\u001b[43m \u001b[49m\u001b[38;5;28;43;01mNone\u001b[39;49;00m\u001b[43m)\u001b[49m\u001b[43m,\u001b[49m\n\u001b[32m   1889\u001b[39m \u001b[43m\u001b[49m\u001b[43m)\u001b[49m\n\u001b[32m   1890\u001b[39m \u001b[38;5;28;01massert\u001b[39;00m \u001b[38;5;28mself\u001b[39m.handles \u001b[38;5;129;01mis\u001b[39;00m \u001b[38;5;129;01mnot\u001b[39;00m \u001b[38;5;28;01mNone\u001b[39;00m\n\u001b[32m   1891\u001b[39m f = \u001b[38;5;28mself\u001b[39m.handles.handle\n",
                        "\u001b[36mFile \u001b[39m\u001b[32m~/Projects/apytmiz/aptimyz-demand-forecast/.venv/lib/python3.12/site-packages/pandas/io/common.py:728\u001b[39m, in \u001b[36mget_handle\u001b[39m\u001b[34m(path_or_buf, mode, encoding, compression, memory_map, is_text, errors, storage_options)\u001b[39m\n\u001b[32m    725\u001b[39m     codecs.lookup_error(errors)\n\u001b[32m    727\u001b[39m \u001b[38;5;66;03m# open URLs\u001b[39;00m\n\u001b[32m--> \u001b[39m\u001b[32m728\u001b[39m ioargs = \u001b[43m_get_filepath_or_buffer\u001b[49m\u001b[43m(\u001b[49m\n\u001b[32m    729\u001b[39m \u001b[43m    \u001b[49m\u001b[43mpath_or_buf\u001b[49m\u001b[43m,\u001b[49m\n\u001b[32m    730\u001b[39m \u001b[43m    \u001b[49m\u001b[43mencoding\u001b[49m\u001b[43m=\u001b[49m\u001b[43mencoding\u001b[49m\u001b[43m,\u001b[49m\n\u001b[32m    731\u001b[39m \u001b[43m    \u001b[49m\u001b[43mcompression\u001b[49m\u001b[43m=\u001b[49m\u001b[43mcompression\u001b[49m\u001b[43m,\u001b[49m\n\u001b[32m    732\u001b[39m \u001b[43m    \u001b[49m\u001b[43mmode\u001b[49m\u001b[43m=\u001b[49m\u001b[43mmode\u001b[49m\u001b[43m,\u001b[49m\n\u001b[32m    733\u001b[39m \u001b[43m    \u001b[49m\u001b[43mstorage_options\u001b[49m\u001b[43m=\u001b[49m\u001b[43mstorage_options\u001b[49m\u001b[43m,\u001b[49m\n\u001b[32m    734\u001b[39m \u001b[43m\u001b[49m\u001b[43m)\u001b[49m\n\u001b[32m    736\u001b[39m handle = ioargs.filepath_or_buffer\n\u001b[32m    737\u001b[39m handles: \u001b[38;5;28mlist\u001b[39m[BaseBuffer]\n",
                        "\u001b[36mFile \u001b[39m\u001b[32m~/Projects/apytmiz/aptimyz-demand-forecast/.venv/lib/python3.12/site-packages/pandas/io/common.py:432\u001b[39m, in \u001b[36m_get_filepath_or_buffer\u001b[39m\u001b[34m(filepath_or_buffer, encoding, compression, mode, storage_options)\u001b[39m\n\u001b[32m    427\u001b[39m     \u001b[38;5;28;01mpass\u001b[39;00m\n\u001b[32m    429\u001b[39m \u001b[38;5;28;01mtry\u001b[39;00m:\n\u001b[32m    430\u001b[39m     file_obj = \u001b[43mfsspec\u001b[49m\u001b[43m.\u001b[49m\u001b[43mopen\u001b[49m\u001b[43m(\u001b[49m\n\u001b[32m    431\u001b[39m \u001b[43m        \u001b[49m\u001b[43mfilepath_or_buffer\u001b[49m\u001b[43m,\u001b[49m\u001b[43m \u001b[49m\u001b[43mmode\u001b[49m\u001b[43m=\u001b[49m\u001b[43mfsspec_mode\u001b[49m\u001b[43m,\u001b[49m\u001b[43m \u001b[49m\u001b[43m*\u001b[49m\u001b[43m*\u001b[49m\u001b[43m(\u001b[49m\u001b[43mstorage_options\u001b[49m\u001b[43m \u001b[49m\u001b[38;5;129;43;01mor\u001b[39;49;00m\u001b[43m \u001b[49m\u001b[43m{\u001b[49m\u001b[43m}\u001b[49m\u001b[43m)\u001b[49m\n\u001b[32m--> \u001b[39m\u001b[32m432\u001b[39m \u001b[43m    \u001b[49m\u001b[43m)\u001b[49m\u001b[43m.\u001b[49m\u001b[43mopen\u001b[49m\u001b[43m(\u001b[49m\u001b[43m)\u001b[49m\n\u001b[32m    433\u001b[39m \u001b[38;5;66;03m# GH 34626 Reads from Public Buckets without Credentials needs anon=True\u001b[39;00m\n\u001b[32m    434\u001b[39m \u001b[38;5;28;01mexcept\u001b[39;00m \u001b[38;5;28mtuple\u001b[39m(err_types_to_retry_with_anon):\n",
                        "\u001b[36mFile \u001b[39m\u001b[32m~/Projects/apytmiz/aptimyz-demand-forecast/.venv/lib/python3.12/site-packages/fsspec/core.py:147\u001b[39m, in \u001b[36mOpenFile.open\u001b[39m\u001b[34m(self)\u001b[39m\n\u001b[32m    140\u001b[39m \u001b[38;5;28;01mdef\u001b[39;00m\u001b[38;5;250m \u001b[39m\u001b[34mopen\u001b[39m(\u001b[38;5;28mself\u001b[39m):\n\u001b[32m    141\u001b[39m \u001b[38;5;250m    \u001b[39m\u001b[33;03m\"\"\"Materialise this as a real open file without context\u001b[39;00m\n\u001b[32m    142\u001b[39m \n\u001b[32m    143\u001b[39m \u001b[33;03m    The OpenFile object should be explicitly closed to avoid enclosed file\u001b[39;00m\n\u001b[32m    144\u001b[39m \u001b[33;03m    instances persisting. You must, therefore, keep a reference to the OpenFile\u001b[39;00m\n\u001b[32m    145\u001b[39m \u001b[33;03m    during the life of the file-like it generates.\u001b[39;00m\n\u001b[32m    146\u001b[39m \u001b[33;03m    \"\"\"\u001b[39;00m\n\u001b[32m--> \u001b[39m\u001b[32m147\u001b[39m     \u001b[38;5;28;01mreturn\u001b[39;00m \u001b[38;5;28;43mself\u001b[39;49m\u001b[43m.\u001b[49m\u001b[34;43m__enter__\u001b[39;49m\u001b[43m(\u001b[49m\u001b[43m)\u001b[49m\n",
                        "\u001b[36mFile \u001b[39m\u001b[32m~/Projects/apytmiz/aptimyz-demand-forecast/.venv/lib/python3.12/site-packages/fsspec/core.py:105\u001b[39m, in \u001b[36mOpenFile.__enter__\u001b[39m\u001b[34m(self)\u001b[39m\n\u001b[32m    102\u001b[39m mode = \u001b[38;5;28mself\u001b[39m.mode.replace(\u001b[33m\"\u001b[39m\u001b[33mt\u001b[39m\u001b[33m\"\u001b[39m, \u001b[33m\"\u001b[39m\u001b[33m\"\u001b[39m).replace(\u001b[33m\"\u001b[39m\u001b[33mb\u001b[39m\u001b[33m\"\u001b[39m, \u001b[33m\"\u001b[39m\u001b[33m\"\u001b[39m) + \u001b[33m\"\u001b[39m\u001b[33mb\u001b[39m\u001b[33m\"\u001b[39m\n\u001b[32m    104\u001b[39m \u001b[38;5;28;01mtry\u001b[39;00m:\n\u001b[32m--> \u001b[39m\u001b[32m105\u001b[39m     f = \u001b[38;5;28;43mself\u001b[39;49m\u001b[43m.\u001b[49m\u001b[43mfs\u001b[49m\u001b[43m.\u001b[49m\u001b[43mopen\u001b[49m\u001b[43m(\u001b[49m\u001b[38;5;28;43mself\u001b[39;49m\u001b[43m.\u001b[49m\u001b[43mpath\u001b[49m\u001b[43m,\u001b[49m\u001b[43m \u001b[49m\u001b[43mmode\u001b[49m\u001b[43m=\u001b[49m\u001b[43mmode\u001b[49m\u001b[43m)\u001b[49m\n\u001b[32m    106\u001b[39m \u001b[38;5;28;01mexcept\u001b[39;00m \u001b[38;5;167;01mFileNotFoundError\u001b[39;00m \u001b[38;5;28;01mas\u001b[39;00m e:\n\u001b[32m    107\u001b[39m     \u001b[38;5;28;01mif\u001b[39;00m has_magic(\u001b[38;5;28mself\u001b[39m.path):\n",
                        "\u001b[36mFile \u001b[39m\u001b[32m~/Projects/apytmiz/aptimyz-demand-forecast/.venv/lib/python3.12/site-packages/fsspec/spec.py:1310\u001b[39m, in \u001b[36mAbstractFileSystem.open\u001b[39m\u001b[34m(self, path, mode, block_size, cache_options, compression, **kwargs)\u001b[39m\n\u001b[32m   1308\u001b[39m \u001b[38;5;28;01melse\u001b[39;00m:\n\u001b[32m   1309\u001b[39m     ac = kwargs.pop(\u001b[33m\"\u001b[39m\u001b[33mautocommit\u001b[39m\u001b[33m\"\u001b[39m, \u001b[38;5;129;01mnot\u001b[39;00m \u001b[38;5;28mself\u001b[39m._intrans)\n\u001b[32m-> \u001b[39m\u001b[32m1310\u001b[39m     f = \u001b[38;5;28;43mself\u001b[39;49m\u001b[43m.\u001b[49m\u001b[43m_open\u001b[49m\u001b[43m(\u001b[49m\n\u001b[32m   1311\u001b[39m \u001b[43m        \u001b[49m\u001b[43mpath\u001b[49m\u001b[43m,\u001b[49m\n\u001b[32m   1312\u001b[39m \u001b[43m        \u001b[49m\u001b[43mmode\u001b[49m\u001b[43m=\u001b[49m\u001b[43mmode\u001b[49m\u001b[43m,\u001b[49m\n\u001b[32m   1313\u001b[39m \u001b[43m        \u001b[49m\u001b[43mblock_size\u001b[49m\u001b[43m=\u001b[49m\u001b[43mblock_size\u001b[49m\u001b[43m,\u001b[49m\n\u001b[32m   1314\u001b[39m \u001b[43m        \u001b[49m\u001b[43mautocommit\u001b[49m\u001b[43m=\u001b[49m\u001b[43mac\u001b[49m\u001b[43m,\u001b[49m\n\u001b[32m   1315\u001b[39m \u001b[43m        \u001b[49m\u001b[43mcache_options\u001b[49m\u001b[43m=\u001b[49m\u001b[43mcache_options\u001b[49m\u001b[43m,\u001b[49m\n\u001b[32m   1316\u001b[39m \u001b[43m        \u001b[49m\u001b[43m*\u001b[49m\u001b[43m*\u001b[49m\u001b[43mkwargs\u001b[49m\u001b[43m,\u001b[49m\n\u001b[32m   1317\u001b[39m \u001b[43m    \u001b[49m\u001b[43m)\u001b[49m\n\u001b[32m   1318\u001b[39m     \u001b[38;5;28;01mif\u001b[39;00m compression \u001b[38;5;129;01mis\u001b[39;00m \u001b[38;5;129;01mnot\u001b[39;00m \u001b[38;5;28;01mNone\u001b[39;00m:\n\u001b[32m   1319\u001b[39m         \u001b[38;5;28;01mfrom\u001b[39;00m\u001b[38;5;250m \u001b[39m\u001b[34;01mfsspec\u001b[39;00m\u001b[34;01m.\u001b[39;00m\u001b[34;01mcompression\u001b[39;00m\u001b[38;5;250m \u001b[39m\u001b[38;5;28;01mimport\u001b[39;00m compr\n",
                        "\u001b[36mFile \u001b[39m\u001b[32m~/Projects/apytmiz/aptimyz-demand-forecast/.venv/lib/python3.12/site-packages/s3fs/core.py:375\u001b[39m, in \u001b[36mS3FileSystem._open\u001b[39m\u001b[34m(self, path, mode, block_size, acl, version_id, fill_cache, cache_type, autocommit, requester_pays, **kwargs)\u001b[39m\n\u001b[32m    372\u001b[39m \u001b[38;5;28;01mif\u001b[39;00m cache_type \u001b[38;5;129;01mis\u001b[39;00m \u001b[38;5;28;01mNone\u001b[39;00m:\n\u001b[32m    373\u001b[39m     cache_type = \u001b[38;5;28mself\u001b[39m.default_cache_type\n\u001b[32m--> \u001b[39m\u001b[32m375\u001b[39m \u001b[38;5;28;01mreturn\u001b[39;00m \u001b[43mS3File\u001b[49m\u001b[43m(\u001b[49m\u001b[38;5;28;43mself\u001b[39;49m\u001b[43m,\u001b[49m\u001b[43m \u001b[49m\u001b[43mpath\u001b[49m\u001b[43m,\u001b[49m\u001b[43m \u001b[49m\u001b[43mmode\u001b[49m\u001b[43m,\u001b[49m\u001b[43m \u001b[49m\u001b[43mblock_size\u001b[49m\u001b[43m=\u001b[49m\u001b[43mblock_size\u001b[49m\u001b[43m,\u001b[49m\u001b[43m \u001b[49m\u001b[43macl\u001b[49m\u001b[43m=\u001b[49m\u001b[43macl\u001b[49m\u001b[43m,\u001b[49m\n\u001b[32m    376\u001b[39m \u001b[43m              \u001b[49m\u001b[43mversion_id\u001b[49m\u001b[43m=\u001b[49m\u001b[43mversion_id\u001b[49m\u001b[43m,\u001b[49m\u001b[43m \u001b[49m\u001b[43mfill_cache\u001b[49m\u001b[43m=\u001b[49m\u001b[43mfill_cache\u001b[49m\u001b[43m,\u001b[49m\n\u001b[32m    377\u001b[39m \u001b[43m              \u001b[49m\u001b[43ms3_additional_kwargs\u001b[49m\u001b[43m=\u001b[49m\u001b[43mkw\u001b[49m\u001b[43m,\u001b[49m\u001b[43m \u001b[49m\u001b[43mcache_type\u001b[49m\u001b[43m=\u001b[49m\u001b[43mcache_type\u001b[49m\u001b[43m,\u001b[49m\n\u001b[32m    378\u001b[39m \u001b[43m              \u001b[49m\u001b[43mautocommit\u001b[49m\u001b[43m=\u001b[49m\u001b[43mautocommit\u001b[49m\u001b[43m,\u001b[49m\u001b[43m \u001b[49m\u001b[43mrequester_pays\u001b[49m\u001b[43m=\u001b[49m\u001b[43mrequester_pays\u001b[49m\u001b[43m)\u001b[49m\n",
                        "\u001b[36mFile \u001b[39m\u001b[32m~/Projects/apytmiz/aptimyz-demand-forecast/.venv/lib/python3.12/site-packages/s3fs/core.py:1096\u001b[39m, in \u001b[36mS3File.__init__\u001b[39m\u001b[34m(self, s3, path, mode, block_size, acl, version_id, fill_cache, s3_additional_kwargs, autocommit, cache_type, requester_pays)\u001b[39m\n\u001b[32m   1094\u001b[39m \u001b[38;5;28mself\u001b[39m.s3_additional_kwargs = s3_additional_kwargs \u001b[38;5;129;01mor\u001b[39;00m {}\n\u001b[32m   1095\u001b[39m \u001b[38;5;28mself\u001b[39m.req_kw = {\u001b[33m'\u001b[39m\u001b[33mRequestPayer\u001b[39m\u001b[33m'\u001b[39m: \u001b[33m'\u001b[39m\u001b[33mrequester\u001b[39m\u001b[33m'\u001b[39m} \u001b[38;5;28;01mif\u001b[39;00m requester_pays \u001b[38;5;28;01melse\u001b[39;00m {}\n\u001b[32m-> \u001b[39m\u001b[32m1096\u001b[39m \u001b[38;5;28;43msuper\u001b[39;49m\u001b[43m(\u001b[49m\u001b[43m)\u001b[49m\u001b[43m.\u001b[49m\u001b[34;43m__init__\u001b[39;49m\u001b[43m(\u001b[49m\u001b[43ms3\u001b[49m\u001b[43m,\u001b[49m\u001b[43m \u001b[49m\u001b[43mpath\u001b[49m\u001b[43m,\u001b[49m\u001b[43m \u001b[49m\u001b[43mmode\u001b[49m\u001b[43m,\u001b[49m\u001b[43m \u001b[49m\u001b[43mblock_size\u001b[49m\u001b[43m,\u001b[49m\u001b[43m \u001b[49m\u001b[43mautocommit\u001b[49m\u001b[43m=\u001b[49m\u001b[43mautocommit\u001b[49m\u001b[43m,\u001b[49m\n\u001b[32m   1097\u001b[39m \u001b[43m                 \u001b[49m\u001b[43mcache_type\u001b[49m\u001b[43m=\u001b[49m\u001b[43mcache_type\u001b[49m\u001b[43m)\u001b[49m\n\u001b[32m   1098\u001b[39m \u001b[38;5;28mself\u001b[39m.s3 = \u001b[38;5;28mself\u001b[39m.fs  \u001b[38;5;66;03m# compatibility\u001b[39;00m\n\u001b[32m   1099\u001b[39m \u001b[38;5;28;01mif\u001b[39;00m \u001b[38;5;28mself\u001b[39m.writable():\n",
                        "\u001b[36mFile \u001b[39m\u001b[32m~/Projects/apytmiz/aptimyz-demand-forecast/.venv/lib/python3.12/site-packages/fsspec/spec.py:1884\u001b[39m, in \u001b[36mAbstractBufferedFile.__init__\u001b[39m\u001b[34m(self, fs, path, mode, block_size, autocommit, cache_type, cache_options, size, **kwargs)\u001b[39m\n\u001b[32m   1882\u001b[39m         \u001b[38;5;28mself\u001b[39m.size = size\n\u001b[32m   1883\u001b[39m     \u001b[38;5;28;01melse\u001b[39;00m:\n\u001b[32m-> \u001b[39m\u001b[32m1884\u001b[39m         \u001b[38;5;28mself\u001b[39m.size = \u001b[38;5;28;43mself\u001b[39;49m\u001b[43m.\u001b[49m\u001b[43mdetails\u001b[49m[\u001b[33m\"\u001b[39m\u001b[33msize\u001b[39m\u001b[33m\"\u001b[39m]\n\u001b[32m   1885\u001b[39m     \u001b[38;5;28mself\u001b[39m.cache = caches[cache_type](\n\u001b[32m   1886\u001b[39m         \u001b[38;5;28mself\u001b[39m.blocksize, \u001b[38;5;28mself\u001b[39m._fetch_range, \u001b[38;5;28mself\u001b[39m.size, **cache_options\n\u001b[32m   1887\u001b[39m     )\n\u001b[32m   1888\u001b[39m \u001b[38;5;28;01melse\u001b[39;00m:\n",
                        "\u001b[36mFile \u001b[39m\u001b[32m~/Projects/apytmiz/aptimyz-demand-forecast/.venv/lib/python3.12/site-packages/fsspec/spec.py:1897\u001b[39m, in \u001b[36mAbstractBufferedFile.details\u001b[39m\u001b[34m(self)\u001b[39m\n\u001b[32m   1894\u001b[39m \u001b[38;5;129m@property\u001b[39m\n\u001b[32m   1895\u001b[39m \u001b[38;5;28;01mdef\u001b[39;00m\u001b[38;5;250m \u001b[39m\u001b[34mdetails\u001b[39m(\u001b[38;5;28mself\u001b[39m):\n\u001b[32m   1896\u001b[39m     \u001b[38;5;28;01mif\u001b[39;00m \u001b[38;5;28mself\u001b[39m._details \u001b[38;5;129;01mis\u001b[39;00m \u001b[38;5;28;01mNone\u001b[39;00m:\n\u001b[32m-> \u001b[39m\u001b[32m1897\u001b[39m         \u001b[38;5;28mself\u001b[39m._details = \u001b[38;5;28;43mself\u001b[39;49m\u001b[43m.\u001b[49m\u001b[43mfs\u001b[49m\u001b[43m.\u001b[49m\u001b[43minfo\u001b[49m\u001b[43m(\u001b[49m\u001b[38;5;28;43mself\u001b[39;49m\u001b[43m.\u001b[49m\u001b[43mpath\u001b[49m\u001b[43m)\u001b[49m\n\u001b[32m   1898\u001b[39m     \u001b[38;5;28;01mreturn\u001b[39;00m \u001b[38;5;28mself\u001b[39m._details\n",
                        "\u001b[36mFile \u001b[39m\u001b[32m~/Projects/apytmiz/aptimyz-demand-forecast/.venv/lib/python3.12/site-packages/s3fs/core.py:546\u001b[39m, in \u001b[36mS3FileSystem.info\u001b[39m\u001b[34m(self, path, version_id, refresh)\u001b[39m\n\u001b[32m    544\u001b[39m \u001b[38;5;66;03m# This could have failed since the thing we are looking for is a prefix.\u001b[39;00m\n\u001b[32m    545\u001b[39m \u001b[38;5;28;01mif\u001b[39;00m \u001b[38;5;28misinstance\u001b[39m(ee, \u001b[38;5;167;01mFileNotFoundError\u001b[39;00m):\n\u001b[32m--> \u001b[39m\u001b[32m546\u001b[39m     \u001b[38;5;28;01mreturn\u001b[39;00m \u001b[38;5;28;43msuper\u001b[39;49m\u001b[43m(\u001b[49m\u001b[43mS3FileSystem\u001b[49m\u001b[43m,\u001b[49m\u001b[43m \u001b[49m\u001b[38;5;28;43mself\u001b[39;49m\u001b[43m)\u001b[49m\u001b[43m.\u001b[49m\u001b[43minfo\u001b[49m\u001b[43m(\u001b[49m\u001b[43mpath\u001b[49m\u001b[43m)\u001b[49m\n\u001b[32m    547\u001b[39m \u001b[38;5;28;01melse\u001b[39;00m:\n\u001b[32m    548\u001b[39m     \u001b[38;5;28;01mraise\u001b[39;00m ee\n",
                        "\u001b[36mFile \u001b[39m\u001b[32m~/Projects/apytmiz/aptimyz-demand-forecast/.venv/lib/python3.12/site-packages/fsspec/spec.py:675\u001b[39m, in \u001b[36mAbstractFileSystem.info\u001b[39m\u001b[34m(self, path, **kwargs)\u001b[39m\n\u001b[32m    673\u001b[39m     \u001b[38;5;28;01mreturn\u001b[39;00m {\u001b[33m\"\u001b[39m\u001b[33mname\u001b[39m\u001b[33m\"\u001b[39m: path, \u001b[33m\"\u001b[39m\u001b[33msize\u001b[39m\u001b[33m\"\u001b[39m: \u001b[32m0\u001b[39m, \u001b[33m\"\u001b[39m\u001b[33mtype\u001b[39m\u001b[33m\"\u001b[39m: \u001b[33m\"\u001b[39m\u001b[33mdirectory\u001b[39m\u001b[33m\"\u001b[39m}\n\u001b[32m    674\u001b[39m \u001b[38;5;28;01melse\u001b[39;00m:\n\u001b[32m--> \u001b[39m\u001b[32m675\u001b[39m     \u001b[38;5;28;01mraise\u001b[39;00m \u001b[38;5;167;01mFileNotFoundError\u001b[39;00m(path)\n",
                        "\u001b[31mFileNotFoundError\u001b[39m: sagemaker-forecasting-aptimyz-output/transform/train.csv.out"
                    ]
                }
            ],
            "source": [
                "eval_df = pd.read_csv(\n",
                "    \"s3://sagemaker-forecasting-aptimyz-output/transform/train.csv.out\", header=\"infer\"\n",
                ")\n",
                "\n",
                "# SageMaker Batch Transform creates a single output file by merging multiple CSV\n",
                "# Some cleanup is needed for deduplication\n",
                "eval_df = eval_df[eval_df[\"date\"] != \"date\"]\n",
                "eval_df.drop_duplicates(subset=[\"series_id\", \"date\"], keep=\"first\", inplace=True)\n",
                "\n",
                "# Feature engineering\n",
                "eval_df[\"series_id\"] = eval_df[\"store\"].astype(str) + \"_\" + eval_df[\"item\"].astype(str)\n",
                "eval_df[\"date\"] = pd.to_datetime(eval_df[\"date\"])\n",
                "eval_df.drop(columns=[\"item\", \"store\"], inplace=True)\n",
                "eval_df[[\"p10\", \"p50\", \"p90\", \"mean\"]] = eval_df[[\"p10\", \"p50\", \"p90\", \"mean\"]].astype(\n",
                "    np.float64\n",
                ")\n",
                "\n",
                "eval_df.head()"
            ]
        },
        {
            "cell_type": "code",
            "execution_count": null,
            "id": "1fddeb8d",
            "metadata": {},
            "outputs": [
                {
                    "data": {
                        "text/plain": [
                            "date         datetime64[ns]\n",
                            "p10                 float64\n",
                            "p50                 float64\n",
                            "p90                 float64\n",
                            "mean                float64\n",
                            "series_id            object\n",
                            "dtype: object"
                        ]
                    },
                    "execution_count": 8,
                    "metadata": {},
                    "output_type": "execute_result"
                }
            ],
            "source": [
                "eval_df.dtypes"
            ]
        },
        {
            "cell_type": "markdown",
            "id": "37062142",
            "metadata": {},
            "source": [
                "## Evaluation task\n",
                "\n",
                "### Metrics available\n",
                "- Median estimation: MAE, WAPE, MASE\n",
                "- Mean estimation: MSE, RMSE, RMSSE\n",
                "- Logarithmic errors: RMSLE\n",
                "- Percentage errors: MAPE, SMAPE\n",
                "- Quantile loss: MQL, WQL, SQL"
            ]
        },
        {
            "cell_type": "code",
            "execution_count": null,
            "id": "98f25bf8",
            "metadata": {},
            "outputs": [],
            "source": [
                "task = fev.Task(\n",
                "    dataset_path=dataset_path,\n",
                "    horizon=7,\n",
                "    num_windows=1,\n",
                "    quantile_levels=[0.1, 0.5, 0.9],\n",
                "    id_column=\"series_id\",\n",
                "    timestamp_column=\"date\",\n",
                "    target=\"sales\",\n",
                "    eval_metric=\"RMSSE\",\n",
                "    extra_metrics=[\"WAPE\", \"WQL\"],\n",
                ")"
            ]
        },
        {
            "cell_type": "code",
            "execution_count": null,
            "id": "d77816e0",
            "metadata": {},
            "outputs": [],
            "source": [
                "def model_forecast(window):\n",
                "    past_data, future_data = window.get_input_data()\n",
                "    future_dates = sorted(set(future_data[window.timestamp_column][0]))\n",
                "\n",
                "    predictions = []\n",
                "    for ts in past_data:\n",
                "        filtered = eval_df[\n",
                "            (eval_df[window.id_column] == ts[window.id_column])\n",
                "            & (eval_df[window.timestamp_column].isin(future_dates))\n",
                "        ].sort_values(window.timestamp_column)\n",
                "\n",
                "        predictions.append(\n",
                "            {\n",
                "                \"predictions\": filtered[\"mean\"].values.tolist(),\n",
                "                \"0.1\": filtered[\"p10\"].values.tolist(),\n",
                "                \"0.5\": filtered[\"p50\"].values.tolist(),\n",
                "                \"0.9\": filtered[\"p90\"].values.tolist(),\n",
                "            }\n",
                "        )\n",
                "\n",
                "    return predictions\n",
                "\n",
                "\n",
                "predictions_per_window = [model_forecast(window) for window in task.iter_windows()]"
            ]
        },
        {
            "cell_type": "code",
            "execution_count": null,
            "id": "eaab4b59",
            "metadata": {},
            "outputs": [
                {
                    "data": {
                        "text/plain": [
                            "{'model_name': 'sagemaker_automl',\n",
                            " 'dataset_path': '/tmp/automl_ds.parquet',\n",
                            " 'dataset_config': None,\n",
                            " 'horizon': 7,\n",
                            " 'num_windows': 1,\n",
                            " 'initial_cutoff': -7,\n",
                            " 'window_step_size': 7,\n",
                            " 'min_context_length': 1,\n",
                            " 'max_context_length': None,\n",
                            " 'seasonality': 1,\n",
                            " 'eval_metric': 'RMSSE',\n",
                            " 'extra_metrics': ['WAPE', 'WQL'],\n",
                            " 'quantile_levels': [0.1, 0.5, 0.9],\n",
                            " 'id_column': 'series_id',\n",
                            " 'timestamp_column': 'date',\n",
                            " 'target': 'sales',\n",
                            " 'generate_univariate_targets_from': None,\n",
                            " 'known_dynamic_columns': [],\n",
                            " 'past_dynamic_columns': [],\n",
                            " 'static_columns': [],\n",
                            " 'task_name': '//tmp',\n",
                            " 'test_error': 0.6213560982790289,\n",
                            " 'training_time_s': 12,\n",
                            " 'inference_time_s': None,\n",
                            " 'dataset_fingerprint': '2b4ae952aefce86c',\n",
                            " 'trained_on_this_dataset': False,\n",
                            " 'fev_version': '0.6.0',\n",
                            " 'RMSSE': 0.6213560982790289,\n",
                            " 'WAPE': 0.1309864064592703,\n",
                            " 'WQL': 0.08558147103899073}"
                        ]
                    },
                    "execution_count": 82,
                    "metadata": {},
                    "output_type": "execute_result"
                }
            ],
            "source": [
                "eval_summary = task.evaluation_summary(\n",
                "    predictions_per_window, model_name=\"sagemaker_automl\", training_time_s=12\n",
                ")\n",
                "\n",
                "eval_summary"
            ]
        },
        {
            "cell_type": "code",
            "execution_count": null,
            "id": "18772f9a",
            "metadata": {},
            "outputs": [],
            "source": [
                "from statsforecast.models import AutoETS, SeasonalNaive, Theta\n",
                "\n",
                "\n",
                "def predict_with_model(\n",
                "    task: fev.Task, model_name: str = \"seasonal_naive\"\n",
                ") -> list[datasets.Dataset]:\n",
                "    assert len(task.target_columns) == 1, \"only univariate forecasting supported\"\n",
                "    if model_name == \"seasonal_naive\":\n",
                "        model = SeasonalNaive(season_length=task.seasonality)\n",
                "    elif model_name == \"theta\":\n",
                "        model = Theta(season_length=task.seasonality)\n",
                "    elif model_name == \"ets\":\n",
                "        model = AutoETS(season_length=task.seasonality)\n",
                "    else:\n",
                "        raise ValueError(f\"Unknown model_name: {model_name}\")\n",
                "\n",
                "    predictions_per_window = []\n",
                "    for window in task.iter_windows():\n",
                "        past_data, future_data = window.get_input_data()\n",
                "        predictions = [\n",
                "            {\"predictions\": model.forecast(y=ts[task.target], h=task.horizon)[\"mean\"]}\n",
                "            for ts in past_data\n",
                "        ]\n",
                "        predictions_per_window.append(datasets.Dataset.from_list(predictions))\n",
                "    return predictions_per_window\n",
                "\n",
                "\n",
                "o = predict_with_model(task, model_name=\"theta\")\n",
                "\n",
                "# import time\n",
                "# import tqdm\n",
                "\n",
                "# summaries = []\n",
                "# for model_name in [\"seasonal_naive\", \"ets\", \"theta\"]:\n",
                "#     start_time = time.time()\n",
                "#     predictions_per_window = predict_with_model(task, model_name=model_name)\n",
                "#     infer_time_s = time.time() - start_time\n",
                "#     eval_summary = task.evaluation_summary(\n",
                "#         predictions_per_window,\n",
                "#         model_name=model_name,\n",
                "#         inference_time_s=infer_time_s,\n",
                "#         training_time_s=0.0,\n",
                "#     )\n",
                "\n",
                "#     summaries.append(eval_summary)\n"
            ]
        },
        {
            "cell_type": "code",
            "execution_count": null,
            "id": "b1391a73",
            "metadata": {},
            "outputs": [
                {
                    "data": {
                        "text/plain": [
                            "{'predictions': [21.806208382450748,\n",
                            "  21.808726128984627,\n",
                            "  21.811243875518507,\n",
                            "  21.81376162205239,\n",
                            "  21.816279368586272,\n",
                            "  21.81879711512015,\n",
                            "  21.82131486165403]}"
                        ]
                    },
                    "execution_count": 92,
                    "metadata": {},
                    "output_type": "execute_result"
                }
            ],
            "source": [
                "o[0][0]"
            ]
        },
        {
            "cell_type": "markdown",
            "id": "104e0568",
            "metadata": {},
            "source": []
        }
    ],
    "metadata": {
        "kernelspec": {
            "display_name": ".venv",
            "language": "python",
            "name": "python3"
        },
        "language_info": {
            "codemirror_mode": {
                "name": "ipython",
                "version": 3
            },
            "file_extension": ".py",
            "mimetype": "text/x-python",
            "name": "python",
            "nbconvert_exporter": "python",
            "pygments_lexer": "ipython3",
            "version": "3.12.11"
        }
    },
    "nbformat": 4,
    "nbformat_minor": 5
}
